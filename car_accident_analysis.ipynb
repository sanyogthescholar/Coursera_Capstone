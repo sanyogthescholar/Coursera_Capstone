{
    "cells": [
        {
            "cell_type": "markdown",
            "metadata": {},
            "source": "# "
        },
        {
            "cell_type": "markdown",
            "metadata": {},
            "source": "# Data Science Capstone Project"
        },
        {
            "cell_type": "markdown",
            "metadata": {},
            "source": "<p>In this project we will analyze data about car accidents and will try to predict the severity of a new collision, if it's fatal or not</p>"
        },
        {
            "cell_type": "markdown",
            "metadata": {},
            "source": "## Importing libraries"
        },
        {
            "cell_type": "code",
            "execution_count": 1,
            "metadata": {},
            "outputs": [],
            "source": "# Pandas to handle dataset\nimport pandas as pd \n\n# Numpy to handle and operate through arrays\nimport numpy as np\n\n# Data visualization\nimport matplotlib.pyplot as plt\nimport seaborn as sns\n%matplotlib inline\n\n# Removing warnings\nimport warnings\nwarnings.filterwarnings('ignore')\nwarnings.simplefilter('ignore')"
        },
        {
            "cell_type": "code",
            "execution_count": 2,
            "metadata": {
                "tags": []
            },
            "outputs": [
                {
                    "name": "stdout",
                    "output_type": "stream",
                    "text": "Hello Capstone Project Course!\n"
                }
            ],
            "source": "print(\"Hello Capstone Project Course!\")"
        },
        {
            "cell_type": "code",
            "execution_count": 3,
            "metadata": {},
            "outputs": [],
            "source": "#Read the dataset\ndf_collisions = pd.read_csv(\"https://s3.us.cloud-object-storage.appdomain.cloud/cf-courses-data/CognitiveClass/DP0701EN/version-2/Data-Collisions.csv\")"
        },
        {
            "cell_type": "markdown",
            "metadata": {
                "tags": []
            },
            "source": " ## Data understanding"
        },
        {
            "cell_type": "markdown",
            "metadata": {},
            "source": "### First, we need to remove useless columns to make our DataFrame smaller"
        },
        {
            "cell_type": "code",
            "execution_count": 4,
            "metadata": {
                "tags": []
            },
            "outputs": [
                {
                    "name": "stdout",
                    "output_type": "stream",
                    "text": "Index(['SEVERITYCODE', 'ADDRTYPE', 'COLLISIONTYPE', 'PERSONCOUNT', 'PEDCOUNT',\n       'PEDCYLCOUNT', 'VEHCOUNT', 'INATTENTIONIND', 'UNDERINFL', 'WEATHER',\n       'ROADCOND', 'LIGHTCOND', 'PEDROWNOTGRNT', 'SPEEDING', 'HITPARKEDCAR'],\n      dtype='object')\n"
                }
            ],
            "source": "# Theses columns are used only for identification or location, so they dont have any impact in our predictions\n# For more info about these columns, check the Metadata.PDF\nuseless_columns = ['OBJECTID', 'X', 'Y', 'REPORTNO', 'STATUS', 'INCDTTM', 'INCKEY', 'COLDETKEY', 'INTKEY', 'LOCATION', 'EXCEPTRSNCODE', 'EXCEPTRSNDESC', 'SEVERITYCODE.1', 'SEVERITYDESC', 'INCDATE', 'JUNCTIONTYPE', 'SDOT_COLCODE', 'SDOT_COLDESC', 'SDOTCOLNUM', 'ST_COLCODE', 'ST_COLDESC', 'SEGLANEKEY', 'CROSSWALKKEY']\n\ndf_collisions.drop(columns=useless_columns, inplace=True)\n\nprint(df_collisions.columns)"
        },
        {
            "cell_type": "markdown",
            "metadata": {},
            "source": "Let's check the first five rows in the dataframe and check the type of each column"
        },
        {
            "cell_type": "code",
            "execution_count": 5,
            "metadata": {},
            "outputs": [
                {
                    "data": {
                        "text/html": "<div>\n<style scoped>\n    .dataframe tbody tr th:only-of-type {\n        vertical-align: middle;\n    }\n\n    .dataframe tbody tr th {\n        vertical-align: top;\n    }\n\n    .dataframe thead th {\n        text-align: right;\n    }\n</style>\n<table border=\"1\" class=\"dataframe\">\n  <thead>\n    <tr style=\"text-align: right;\">\n      <th></th>\n      <th>SEVERITYCODE</th>\n      <th>ADDRTYPE</th>\n      <th>COLLISIONTYPE</th>\n      <th>PERSONCOUNT</th>\n      <th>PEDCOUNT</th>\n      <th>PEDCYLCOUNT</th>\n      <th>VEHCOUNT</th>\n      <th>INATTENTIONIND</th>\n      <th>UNDERINFL</th>\n      <th>WEATHER</th>\n      <th>ROADCOND</th>\n      <th>LIGHTCOND</th>\n      <th>PEDROWNOTGRNT</th>\n      <th>SPEEDING</th>\n      <th>HITPARKEDCAR</th>\n    </tr>\n  </thead>\n  <tbody>\n    <tr>\n      <th>0</th>\n      <td>2</td>\n      <td>Intersection</td>\n      <td>Angles</td>\n      <td>2</td>\n      <td>0</td>\n      <td>0</td>\n      <td>2</td>\n      <td>NaN</td>\n      <td>N</td>\n      <td>Overcast</td>\n      <td>Wet</td>\n      <td>Daylight</td>\n      <td>NaN</td>\n      <td>NaN</td>\n      <td>N</td>\n    </tr>\n    <tr>\n      <th>1</th>\n      <td>1</td>\n      <td>Block</td>\n      <td>Sideswipe</td>\n      <td>2</td>\n      <td>0</td>\n      <td>0</td>\n      <td>2</td>\n      <td>NaN</td>\n      <td>0</td>\n      <td>Raining</td>\n      <td>Wet</td>\n      <td>Dark - Street Lights On</td>\n      <td>NaN</td>\n      <td>NaN</td>\n      <td>N</td>\n    </tr>\n    <tr>\n      <th>2</th>\n      <td>1</td>\n      <td>Block</td>\n      <td>Parked Car</td>\n      <td>4</td>\n      <td>0</td>\n      <td>0</td>\n      <td>3</td>\n      <td>NaN</td>\n      <td>0</td>\n      <td>Overcast</td>\n      <td>Dry</td>\n      <td>Daylight</td>\n      <td>NaN</td>\n      <td>NaN</td>\n      <td>N</td>\n    </tr>\n    <tr>\n      <th>3</th>\n      <td>1</td>\n      <td>Block</td>\n      <td>Other</td>\n      <td>3</td>\n      <td>0</td>\n      <td>0</td>\n      <td>3</td>\n      <td>NaN</td>\n      <td>N</td>\n      <td>Clear</td>\n      <td>Dry</td>\n      <td>Daylight</td>\n      <td>NaN</td>\n      <td>NaN</td>\n      <td>N</td>\n    </tr>\n    <tr>\n      <th>4</th>\n      <td>2</td>\n      <td>Intersection</td>\n      <td>Angles</td>\n      <td>2</td>\n      <td>0</td>\n      <td>0</td>\n      <td>2</td>\n      <td>NaN</td>\n      <td>0</td>\n      <td>Raining</td>\n      <td>Wet</td>\n      <td>Daylight</td>\n      <td>NaN</td>\n      <td>NaN</td>\n      <td>N</td>\n    </tr>\n  </tbody>\n</table>\n</div>",
                        "text/plain": "   SEVERITYCODE      ADDRTYPE COLLISIONTYPE  PERSONCOUNT  PEDCOUNT  \\\n0             2  Intersection        Angles            2         0   \n1             1         Block     Sideswipe            2         0   \n2             1         Block    Parked Car            4         0   \n3             1         Block         Other            3         0   \n4             2  Intersection        Angles            2         0   \n\n   PEDCYLCOUNT  VEHCOUNT INATTENTIONIND UNDERINFL   WEATHER ROADCOND  \\\n0            0         2            NaN         N  Overcast      Wet   \n1            0         2            NaN         0   Raining      Wet   \n2            0         3            NaN         0  Overcast      Dry   \n3            0         3            NaN         N     Clear      Dry   \n4            0         2            NaN         0   Raining      Wet   \n\n                 LIGHTCOND PEDROWNOTGRNT SPEEDING HITPARKEDCAR  \n0                 Daylight           NaN      NaN            N  \n1  Dark - Street Lights On           NaN      NaN            N  \n2                 Daylight           NaN      NaN            N  \n3                 Daylight           NaN      NaN            N  \n4                 Daylight           NaN      NaN            N  "
                    },
                    "execution_count": 5,
                    "metadata": {},
                    "output_type": "execute_result"
                }
            ],
            "source": "df_collisions.head()"
        },
        {
            "cell_type": "code",
            "execution_count": 6,
            "metadata": {
                "tags": []
            },
            "outputs": [
                {
                    "name": "stdout",
                    "output_type": "stream",
                    "text": "<class 'pandas.core.frame.DataFrame'>\nRangeIndex: 194673 entries, 0 to 194672\nData columns (total 15 columns):\nSEVERITYCODE      194673 non-null int64\nADDRTYPE          192747 non-null object\nCOLLISIONTYPE     189769 non-null object\nPERSONCOUNT       194673 non-null int64\nPEDCOUNT          194673 non-null int64\nPEDCYLCOUNT       194673 non-null int64\nVEHCOUNT          194673 non-null int64\nINATTENTIONIND    29805 non-null object\nUNDERINFL         189789 non-null object\nWEATHER           189592 non-null object\nROADCOND          189661 non-null object\nLIGHTCOND         189503 non-null object\nPEDROWNOTGRNT     4667 non-null object\nSPEEDING          9333 non-null object\nHITPARKEDCAR      194673 non-null object\ndtypes: int64(5), object(10)\nmemory usage: 22.3+ MB\n"
                }
            ],
            "source": "df_collisions.info()"
        },
        {
            "cell_type": "markdown",
            "metadata": {},
            "source": "### Missing values"
        },
        {
            "cell_type": "markdown",
            "metadata": {},
            "source": "Now, let's check our dataframe for missing values and how we'll handle then"
        },
        {
            "cell_type": "code",
            "execution_count": 7,
            "metadata": {},
            "outputs": [
                {
                    "data": {
                        "text/plain": "SEVERITYCODE           0\nADDRTYPE            1926\nCOLLISIONTYPE       4904\nPERSONCOUNT            0\nPEDCOUNT               0\nPEDCYLCOUNT            0\nVEHCOUNT               0\nINATTENTIONIND    164868\nUNDERINFL           4884\nWEATHER             5081\nROADCOND            5012\nLIGHTCOND           5170\nPEDROWNOTGRNT     190006\nSPEEDING          185340\nHITPARKEDCAR           0\ndtype: int64"
                    },
                    "execution_count": 7,
                    "metadata": {},
                    "output_type": "execute_result"
                }
            ],
            "source": "df_collisions.isnull().sum()"
        },
        {
            "cell_type": "markdown",
            "metadata": {},
            "source": "We can drop columns with 50% or more missing values"
        },
        {
            "cell_type": "code",
            "execution_count": 8,
            "metadata": {
                "tags": []
            },
            "outputs": [
                {
                    "name": "stdout",
                    "output_type": "stream",
                    "text": "Inital total columns: 15\nTotal columns after dropping: 12\n"
                }
            ],
            "source": "print('Inital total columns: ' + str(np.asarray(df_collisions.columns).size))\n\ndf_collisions.dropna(axis=1, thresh=97336, inplace=True)\n\nprint('Total columns after dropping: ' + str(np.asarray(df_collisions.columns).size))"
        },
        {
            "cell_type": "markdown",
            "metadata": {},
            "source": "<p>Since the remaing columns with missing values are categorical, we can fill those missing values with the recurrent value</p>"
        },
        {
            "cell_type": "code",
            "execution_count": 9,
            "metadata": {
                "tags": []
            },
            "outputs": [
                {
                    "data": {
                        "text/html": "<div>\n<style scoped>\n    .dataframe tbody tr th:only-of-type {\n        vertical-align: middle;\n    }\n\n    .dataframe tbody tr th {\n        vertical-align: top;\n    }\n\n    .dataframe thead th {\n        text-align: right;\n    }\n</style>\n<table border=\"1\" class=\"dataframe\">\n  <thead>\n    <tr style=\"text-align: right;\">\n      <th></th>\n      <th>ADDRTYPE</th>\n      <th>COLLISIONTYPE</th>\n      <th>UNDERINFL</th>\n      <th>WEATHER</th>\n      <th>ROADCOND</th>\n      <th>LIGHTCOND</th>\n    </tr>\n  </thead>\n  <tbody>\n    <tr>\n      <th>0</th>\n      <td>Intersection</td>\n      <td>Angles</td>\n      <td>N</td>\n      <td>Overcast</td>\n      <td>Wet</td>\n      <td>Daylight</td>\n    </tr>\n    <tr>\n      <th>1</th>\n      <td>Block</td>\n      <td>Sideswipe</td>\n      <td>0</td>\n      <td>Raining</td>\n      <td>Wet</td>\n      <td>Dark - Street Lights On</td>\n    </tr>\n    <tr>\n      <th>2</th>\n      <td>Block</td>\n      <td>Parked Car</td>\n      <td>0</td>\n      <td>Overcast</td>\n      <td>Dry</td>\n      <td>Daylight</td>\n    </tr>\n    <tr>\n      <th>3</th>\n      <td>Block</td>\n      <td>Other</td>\n      <td>N</td>\n      <td>Clear</td>\n      <td>Dry</td>\n      <td>Daylight</td>\n    </tr>\n    <tr>\n      <th>4</th>\n      <td>Intersection</td>\n      <td>Angles</td>\n      <td>0</td>\n      <td>Raining</td>\n      <td>Wet</td>\n      <td>Daylight</td>\n    </tr>\n  </tbody>\n</table>\n</div>",
                        "text/plain": "       ADDRTYPE COLLISIONTYPE UNDERINFL   WEATHER ROADCOND  \\\n0  Intersection        Angles         N  Overcast      Wet   \n1         Block     Sideswipe         0   Raining      Wet   \n2         Block    Parked Car         0  Overcast      Dry   \n3         Block         Other         N     Clear      Dry   \n4  Intersection        Angles         0   Raining      Wet   \n\n                 LIGHTCOND  \n0                 Daylight  \n1  Dark - Street Lights On  \n2                 Daylight  \n3                 Daylight  \n4                 Daylight  "
                    },
                    "execution_count": 9,
                    "metadata": {},
                    "output_type": "execute_result"
                }
            ],
            "source": "cols_with_missing_values = ['ADDRTYPE', 'COLLISIONTYPE', 'UNDERINFL', 'WEATHER', 'ROADCOND', 'LIGHTCOND']\n\ndf_collisions[cols_with_missing_values].head()"
        },
        {
            "cell_type": "markdown",
            "metadata": {},
            "source": "We can see that UNDERINFL column has numeric and string values, so we need to handle it individually. We can replace 0 with 'No' and 1 with 'Yes' values."
        },
        {
            "cell_type": "code",
            "execution_count": 10,
            "metadata": {
                "tags": []
            },
            "outputs": [],
            "source": "df_collisions['UNDERINFL'] = df_collisions['UNDERINFL'].map({'0': 'No', '1': 'Yes', 'N': 'No', 'Y': 'Yes'})"
        },
        {
            "cell_type": "markdown",
            "metadata": {},
            "source": "Now lets fill those missing values with the recurrent value"
        },
        {
            "cell_type": "code",
            "execution_count": 11,
            "metadata": {
                "tags": []
            },
            "outputs": [],
            "source": "df_collisions['ADDRTYPE'].fillna(df_collisions['ADDRTYPE'].mode()[0], inplace=True)\ndf_collisions['COLLISIONTYPE'].fillna(df_collisions['COLLISIONTYPE'].mode()[0], inplace=True)\ndf_collisions['UNDERINFL'].fillna(df_collisions['UNDERINFL'].mode()[0], inplace=True)\ndf_collisions['WEATHER'].fillna(df_collisions['WEATHER'].mode()[0], inplace=True)\ndf_collisions['ROADCOND'].fillna(df_collisions['ROADCOND'].mode()[0], inplace=True)\ndf_collisions['LIGHTCOND'].fillna(df_collisions['LIGHTCOND'].mode()[0], inplace=True)"
        },
        {
            "cell_type": "markdown",
            "metadata": {},
            "source": "## Data Wrangling"
        },
        {
            "cell_type": "markdown",
            "metadata": {
                "tags": []
            },
            "source": "#### Now, lets use OneHotEncoding and get_dummies to handle categorical values"
        },
        {
            "cell_type": "code",
            "execution_count": 12,
            "metadata": {},
            "outputs": [
                {
                    "name": "stdout",
                    "output_type": "stream",
                    "text": "<class 'pandas.core.frame.DataFrame'>\nRangeIndex: 194673 entries, 0 to 194672\nData columns (total 12 columns):\nSEVERITYCODE     194673 non-null int64\nADDRTYPE         194673 non-null object\nCOLLISIONTYPE    194673 non-null object\nPERSONCOUNT      194673 non-null int64\nPEDCOUNT         194673 non-null int64\nPEDCYLCOUNT      194673 non-null int64\nVEHCOUNT         194673 non-null int64\nUNDERINFL        194673 non-null object\nWEATHER          194673 non-null object\nROADCOND         194673 non-null object\nLIGHTCOND        194673 non-null object\nHITPARKEDCAR     194673 non-null object\ndtypes: int64(5), object(7)\nmemory usage: 17.8+ MB\n"
                }
            ],
            "source": "df_collisions.info()"
        },
        {
            "cell_type": "markdown",
            "metadata": {},
            "source": "#####  One-hot Encoding"
        },
        {
            "cell_type": "code",
            "execution_count": 13,
            "metadata": {},
            "outputs": [
                {
                    "data": {
                        "text/plain": "Block           128852\nIntersection     65070\nAlley              751\nName: ADDRTYPE, dtype: int64"
                    },
                    "execution_count": 13,
                    "metadata": {},
                    "output_type": "execute_result"
                }
            ],
            "source": "#ADDRTYPE\ndf_collisions.ADDRTYPE.value_counts()"
        },
        {
            "cell_type": "code",
            "execution_count": 14,
            "metadata": {},
            "outputs": [
                {
                    "data": {
                        "text/plain": "Parked Car    52891\nAngles        34674\nRear Ended    34090\nOther         23703\nSideswipe     18609\nLeft Turn     13703\nPedestrian     6608\nCycles         5415\nRight Turn     2956\nHead On        2024\nName: COLLISIONTYPE, dtype: int64"
                    },
                    "execution_count": 14,
                    "metadata": {},
                    "output_type": "execute_result"
                }
            ],
            "source": "#COLLISIONTYPE\ndf_collisions.COLLISIONTYPE.value_counts()"
        },
        {
            "cell_type": "code",
            "execution_count": 15,
            "metadata": {},
            "outputs": [
                {
                    "data": {
                        "text/plain": "No     185552\nYes      9121\nName: UNDERINFL, dtype: int64"
                    },
                    "execution_count": 15,
                    "metadata": {},
                    "output_type": "execute_result"
                }
            ],
            "source": "#UNDERINFL\ndf_collisions.UNDERINFL.value_counts()"
        },
        {
            "cell_type": "code",
            "execution_count": 16,
            "metadata": {},
            "outputs": [
                {
                    "data": {
                        "text/plain": "N    187457\nY      7216\nName: HITPARKEDCAR, dtype: int64"
                    },
                    "execution_count": 16,
                    "metadata": {},
                    "output_type": "execute_result"
                }
            ],
            "source": "#COLLISIONTYPE\ndf_collisions.HITPARKEDCAR.value_counts()"
        },
        {
            "cell_type": "markdown",
            "metadata": {},
            "source": "Since there's no number sequencing in these columns's values, we can use get_dummies in the columns above"
        },
        {
            "cell_type": "code",
            "execution_count": 17,
            "metadata": {
                "tags": []
            },
            "outputs": [],
            "source": "object_columns = ['ADDRTYPE', 'COLLISIONTYPE', 'UNDERINFL', 'HITPARKEDCAR']\ndf_collisions = pd.get_dummies(df_collisions, prefix=['addrtype', 'collisiontype', 'underinfl', 'hitparkedcar'], prefix_sep='_', columns=object_columns, drop_first=True)"
        },
        {
            "cell_type": "markdown",
            "metadata": {},
            "source": "##### Label encoding"
        },
        {
            "cell_type": "code",
            "execution_count": 18,
            "metadata": {},
            "outputs": [],
            "source": "from sklearn.preprocessing import LabelEncoder"
        },
        {
            "cell_type": "code",
            "execution_count": 19,
            "metadata": {},
            "outputs": [
                {
                    "data": {
                        "text/plain": "Clear                       116216\nRaining                      33145\nOvercast                     27714\nUnknown                      15091\nSnowing                        907\nOther                          832\nFog/Smog/Smoke                 569\nSleet/Hail/Freezing Rain       113\nBlowing Sand/Dirt               56\nSevere Crosswind                25\nPartly Cloudy                    5\nName: WEATHER, dtype: int64"
                    },
                    "execution_count": 19,
                    "metadata": {},
                    "output_type": "execute_result"
                }
            ],
            "source": "#WEATHER\ndf_collisions.WEATHER.value_counts()"
        },
        {
            "cell_type": "code",
            "execution_count": 20,
            "metadata": {},
            "outputs": [
                {
                    "data": {
                        "text/plain": "Dry               129522\nWet                47474\nUnknown            15078\nIce                 1209\nSnow/Slush          1004\nOther                132\nStanding Water       115\nSand/Mud/Dirt         75\nOil                   64\nName: ROADCOND, dtype: int64"
                    },
                    "execution_count": 20,
                    "metadata": {},
                    "output_type": "execute_result"
                }
            ],
            "source": "#ROADCOND\ndf_collisions.ROADCOND.value_counts()"
        },
        {
            "cell_type": "code",
            "execution_count": 21,
            "metadata": {},
            "outputs": [
                {
                    "data": {
                        "text/plain": "Daylight                    121307\nDark - Street Lights On      48507\nUnknown                      13473\nDusk                          5902\nDawn                          2502\nDark - No Street Lights       1537\nDark - Street Lights Off      1199\nOther                          235\nDark - Unknown Lighting         11\nName: LIGHTCOND, dtype: int64"
                    },
                    "execution_count": 21,
                    "metadata": {},
                    "output_type": "execute_result"
                }
            ],
            "source": "#COLLISIONTYPE\ndf_collisions.LIGHTCOND.value_counts()"
        },
        {
            "cell_type": "markdown",
            "metadata": {},
            "source": "These values have some numerical sequencing. Let's label encode this 3 columns:"
        },
        {
            "cell_type": "code",
            "execution_count": 22,
            "metadata": {},
            "outputs": [],
            "source": "le_weather = LabelEncoder()\ndf_collisions['WEATHER'] = le_weather.fit_transform(df_collisions['WEATHER'])\n\nle_roadcond = LabelEncoder()\ndf_collisions['ROADCOND'] = le_roadcond.fit_transform(df_collisions['ROADCOND'])\n\nle_lightcond = LabelEncoder()\ndf_collisions['LIGHTCOND'] = le_lightcond.fit_transform(df_collisions['LIGHTCOND'])"
        },
        {
            "cell_type": "code",
            "execution_count": 23,
            "metadata": {
                "tags": []
            },
            "outputs": [
                {
                    "name": "stdout",
                    "output_type": "stream",
                    "text": "(194673, 21)\n"
                }
            ],
            "source": "print(df_collisions.shape)"
        },
        {
            "cell_type": "markdown",
            "metadata": {},
            "source": "## Exploratory Data Analysis"
        },
        {
            "cell_type": "markdown",
            "metadata": {},
            "source": "All our columns has discrete values"
        },
        {
            "cell_type": "code",
            "execution_count": 24,
            "metadata": {},
            "outputs": [
                {
                    "data": {
                        "text/html": "<div>\n<style scoped>\n    .dataframe tbody tr th:only-of-type {\n        vertical-align: middle;\n    }\n\n    .dataframe tbody tr th {\n        vertical-align: top;\n    }\n\n    .dataframe thead th {\n        text-align: right;\n    }\n</style>\n<table border=\"1\" class=\"dataframe\">\n  <thead>\n    <tr style=\"text-align: right;\">\n      <th></th>\n      <th>SEVERITYCODE</th>\n      <th>PERSONCOUNT</th>\n      <th>PEDCOUNT</th>\n      <th>PEDCYLCOUNT</th>\n      <th>VEHCOUNT</th>\n      <th>WEATHER</th>\n      <th>ROADCOND</th>\n      <th>LIGHTCOND</th>\n      <th>addrtype_Block</th>\n      <th>addrtype_Intersection</th>\n      <th>...</th>\n      <th>collisiontype_Head On</th>\n      <th>collisiontype_Left Turn</th>\n      <th>collisiontype_Other</th>\n      <th>collisiontype_Parked Car</th>\n      <th>collisiontype_Pedestrian</th>\n      <th>collisiontype_Rear Ended</th>\n      <th>collisiontype_Right Turn</th>\n      <th>collisiontype_Sideswipe</th>\n      <th>underinfl_Yes</th>\n      <th>hitparkedcar_Y</th>\n    </tr>\n  </thead>\n  <tbody>\n    <tr>\n      <th>SEVERITYCODE</th>\n      <td>1.000000</td>\n      <td>0.130949</td>\n      <td>0.246338</td>\n      <td>0.214218</td>\n      <td>-0.054686</td>\n      <td>-0.105236</td>\n      <td>-0.044988</td>\n      <td>-0.061834</td>\n      <td>-0.195147</td>\n      <td>0.199089</td>\n      <td>...</td>\n      <td>0.029540</td>\n      <td>0.057692</td>\n      <td>-0.033384</td>\n      <td>-0.305388</td>\n      <td>0.245441</td>\n      <td>0.132313</td>\n      <td>-0.025194</td>\n      <td>-0.116638</td>\n      <td>0.044377</td>\n      <td>-0.101498</td>\n    </tr>\n    <tr>\n      <th>PERSONCOUNT</th>\n      <td>0.130949</td>\n      <td>1.000000</td>\n      <td>-0.023464</td>\n      <td>-0.038809</td>\n      <td>0.380523</td>\n      <td>-0.055734</td>\n      <td>-0.023762</td>\n      <td>-0.042779</td>\n      <td>-0.063657</td>\n      <td>0.067153</td>\n      <td>...</td>\n      <td>0.021879</td>\n      <td>0.053115</td>\n      <td>-0.175667</td>\n      <td>-0.110330</td>\n      <td>-0.037342</td>\n      <td>0.139386</td>\n      <td>0.025008</td>\n      <td>0.042726</td>\n      <td>0.022420</td>\n      <td>-0.052766</td>\n    </tr>\n    <tr>\n      <th>PEDCOUNT</th>\n      <td>0.246338</td>\n      <td>-0.023464</td>\n      <td>1.000000</td>\n      <td>-0.016920</td>\n      <td>-0.261285</td>\n      <td>-0.009703</td>\n      <td>0.007871</td>\n      <td>-0.042293</td>\n      <td>-0.145026</td>\n      <td>0.144936</td>\n      <td>...</td>\n      <td>-0.019212</td>\n      <td>-0.049346</td>\n      <td>-0.064159</td>\n      <td>-0.110281</td>\n      <td>0.946507</td>\n      <td>-0.084517</td>\n      <td>-0.022214</td>\n      <td>-0.059348</td>\n      <td>0.016592</td>\n      <td>-0.035264</td>\n    </tr>\n    <tr>\n      <th>PEDCYLCOUNT</th>\n      <td>0.214218</td>\n      <td>-0.038809</td>\n      <td>-0.016920</td>\n      <td>1.000000</td>\n      <td>-0.253773</td>\n      <td>-0.051237</td>\n      <td>-0.047254</td>\n      <td>0.009893</td>\n      <td>-0.084272</td>\n      <td>0.085377</td>\n      <td>...</td>\n      <td>-0.017080</td>\n      <td>-0.044987</td>\n      <td>-0.062488</td>\n      <td>-0.102063</td>\n      <td>-0.031111</td>\n      <td>-0.077572</td>\n      <td>-0.020305</td>\n      <td>-0.054613</td>\n      <td>-0.016401</td>\n      <td>-0.030187</td>\n    </tr>\n    <tr>\n      <th>VEHCOUNT</th>\n      <td>-0.054686</td>\n      <td>0.380523</td>\n      <td>-0.261285</td>\n      <td>-0.253773</td>\n      <td>1.000000</td>\n      <td>0.048249</td>\n      <td>0.040352</td>\n      <td>0.003758</td>\n      <td>0.076566</td>\n      <td>-0.073548</td>\n      <td>...</td>\n      <td>0.033492</td>\n      <td>0.057170</td>\n      <td>-0.280103</td>\n      <td>0.025913</td>\n      <td>-0.269287</td>\n      <td>0.220039</td>\n      <td>0.020448</td>\n      <td>0.076444</td>\n      <td>0.006609</td>\n      <td>0.048845</td>\n    </tr>\n    <tr>\n      <th>WEATHER</th>\n      <td>-0.105236</td>\n      <td>-0.055734</td>\n      <td>-0.009703</td>\n      <td>-0.051237</td>\n      <td>0.048249</td>\n      <td>1.000000</td>\n      <td>0.752051</td>\n      <td>0.208585</td>\n      <td>0.089902</td>\n      <td>-0.091031</td>\n      <td>...</td>\n      <td>0.003898</td>\n      <td>-0.041033</td>\n      <td>-0.005886</td>\n      <td>0.167238</td>\n      <td>-0.008035</td>\n      <td>-0.039719</td>\n      <td>-0.021232</td>\n      <td>-0.044433</td>\n      <td>-0.038970</td>\n      <td>0.059543</td>\n    </tr>\n    <tr>\n      <th>ROADCOND</th>\n      <td>-0.044988</td>\n      <td>-0.023762</td>\n      <td>0.007871</td>\n      <td>-0.047254</td>\n      <td>0.040352</td>\n      <td>0.752051</td>\n      <td>1.000000</td>\n      <td>0.022630</td>\n      <td>0.031271</td>\n      <td>-0.031230</td>\n      <td>...</td>\n      <td>0.015629</td>\n      <td>-0.013652</td>\n      <td>0.029910</td>\n      <td>0.031970</td>\n      <td>0.010298</td>\n      <td>-0.000423</td>\n      <td>-0.020210</td>\n      <td>-0.035632</td>\n      <td>-0.008955</td>\n      <td>0.018229</td>\n    </tr>\n    <tr>\n      <th>LIGHTCOND</th>\n      <td>-0.061834</td>\n      <td>-0.042779</td>\n      <td>-0.042293</td>\n      <td>0.009893</td>\n      <td>0.003758</td>\n      <td>0.208585</td>\n      <td>0.022630</td>\n      <td>1.000000</td>\n      <td>0.054678</td>\n      <td>-0.054516</td>\n      <td>...</td>\n      <td>-0.021904</td>\n      <td>-0.032242</td>\n      <td>-0.119706</td>\n      <td>0.138715</td>\n      <td>-0.042600</td>\n      <td>0.002335</td>\n      <td>0.002952</td>\n      <td>0.002806</td>\n      <td>-0.218037</td>\n      <td>0.038753</td>\n    </tr>\n    <tr>\n      <th>addrtype_Block</th>\n      <td>-0.195147</td>\n      <td>-0.063657</td>\n      <td>-0.145026</td>\n      <td>-0.084272</td>\n      <td>0.076566</td>\n      <td>0.089902</td>\n      <td>0.031271</td>\n      <td>0.054678</td>\n      <td>1.000000</td>\n      <td>-0.991394</td>\n      <td>...</td>\n      <td>0.025621</td>\n      <td>-0.293826</td>\n      <td>0.131802</td>\n      <td>0.359542</td>\n      <td>-0.150375</td>\n      <td>0.209140</td>\n      <td>-0.063094</td>\n      <td>0.087779</td>\n      <td>0.041410</td>\n      <td>0.129997</td>\n    </tr>\n    <tr>\n      <th>addrtype_Intersection</th>\n      <td>0.199089</td>\n      <td>0.067153</td>\n      <td>0.144936</td>\n      <td>0.085377</td>\n      <td>-0.073548</td>\n      <td>-0.091031</td>\n      <td>-0.031230</td>\n      <td>-0.054516</td>\n      <td>-0.991394</td>\n      <td>1.000000</td>\n      <td>...</td>\n      <td>-0.025392</td>\n      <td>0.296910</td>\n      <td>-0.138722</td>\n      <td>-0.363621</td>\n      <td>0.150109</td>\n      <td>-0.206280</td>\n      <td>0.064288</td>\n      <td>-0.085962</td>\n      <td>-0.041827</td>\n      <td>-0.128877</td>\n    </tr>\n    <tr>\n      <th>collisiontype_Cycles</th>\n      <td>0.213271</td>\n      <td>-0.039677</td>\n      <td>-0.016255</td>\n      <td>0.987664</td>\n      <td>-0.252753</td>\n      <td>-0.051310</td>\n      <td>-0.047248</td>\n      <td>0.010138</td>\n      <td>-0.084265</td>\n      <td>0.085357</td>\n      <td>...</td>\n      <td>-0.017338</td>\n      <td>-0.046545</td>\n      <td>-0.062982</td>\n      <td>-0.103312</td>\n      <td>-0.031707</td>\n      <td>-0.077936</td>\n      <td>-0.021004</td>\n      <td>-0.054992</td>\n      <td>-0.016512</td>\n      <td>-0.030376</td>\n    </tr>\n    <tr>\n      <th>collisiontype_Head On</th>\n      <td>0.029540</td>\n      <td>0.021879</td>\n      <td>-0.019212</td>\n      <td>-0.017080</td>\n      <td>0.033492</td>\n      <td>0.003898</td>\n      <td>0.015629</td>\n      <td>-0.021904</td>\n      <td>0.025621</td>\n      <td>-0.025392</td>\n      <td>...</td>\n      <td>1.000000</td>\n      <td>-0.028205</td>\n      <td>-0.038165</td>\n      <td>-0.062604</td>\n      <td>-0.019213</td>\n      <td>-0.047226</td>\n      <td>-0.012728</td>\n      <td>-0.033323</td>\n      <td>0.023286</td>\n      <td>-0.016894</td>\n    </tr>\n    <tr>\n      <th>collisiontype_Left Turn</th>\n      <td>0.057692</td>\n      <td>0.053115</td>\n      <td>-0.049346</td>\n      <td>-0.044987</td>\n      <td>0.057170</td>\n      <td>-0.041033</td>\n      <td>-0.013652</td>\n      <td>-0.032242</td>\n      <td>-0.293826</td>\n      <td>0.296910</td>\n      <td>...</td>\n      <td>-0.028205</td>\n      <td>1.000000</td>\n      <td>-0.102458</td>\n      <td>-0.168068</td>\n      <td>-0.051581</td>\n      <td>-0.126785</td>\n      <td>-0.034169</td>\n      <td>-0.089460</td>\n      <td>-0.033356</td>\n      <td>-0.053245</td>\n    </tr>\n    <tr>\n      <th>collisiontype_Other</th>\n      <td>-0.033384</td>\n      <td>-0.175667</td>\n      <td>-0.064159</td>\n      <td>-0.062488</td>\n      <td>-0.280103</td>\n      <td>-0.005886</td>\n      <td>0.029910</td>\n      <td>-0.119706</td>\n      <td>0.131802</td>\n      <td>-0.138722</td>\n      <td>...</td>\n      <td>-0.038165</td>\n      <td>-0.102458</td>\n      <td>1.000000</td>\n      <td>-0.227417</td>\n      <td>-0.069795</td>\n      <td>-0.171556</td>\n      <td>-0.046234</td>\n      <td>-0.121051</td>\n      <td>0.112427</td>\n      <td>-0.066485</td>\n    </tr>\n    <tr>\n      <th>collisiontype_Parked Car</th>\n      <td>-0.305388</td>\n      <td>-0.110330</td>\n      <td>-0.110281</td>\n      <td>-0.102063</td>\n      <td>0.025913</td>\n      <td>0.167238</td>\n      <td>0.031970</td>\n      <td>0.138715</td>\n      <td>0.359542</td>\n      <td>-0.363621</td>\n      <td>...</td>\n      <td>-0.062604</td>\n      <td>-0.168068</td>\n      <td>-0.227417</td>\n      <td>1.000000</td>\n      <td>-0.114488</td>\n      <td>-0.281413</td>\n      <td>-0.075841</td>\n      <td>-0.198567</td>\n      <td>0.005568</td>\n      <td>0.304789</td>\n    </tr>\n    <tr>\n      <th>collisiontype_Pedestrian</th>\n      <td>0.245441</td>\n      <td>-0.037342</td>\n      <td>0.946507</td>\n      <td>-0.031111</td>\n      <td>-0.269287</td>\n      <td>-0.008035</td>\n      <td>0.010298</td>\n      <td>-0.042600</td>\n      <td>-0.150375</td>\n      <td>0.150109</td>\n      <td>...</td>\n      <td>-0.019213</td>\n      <td>-0.051581</td>\n      <td>-0.069795</td>\n      <td>-0.114488</td>\n      <td>1.000000</td>\n      <td>-0.086366</td>\n      <td>-0.023276</td>\n      <td>-0.060941</td>\n      <td>0.015624</td>\n      <td>-0.036327</td>\n    </tr>\n    <tr>\n      <th>collisiontype_Rear Ended</th>\n      <td>0.132313</td>\n      <td>0.139386</td>\n      <td>-0.084517</td>\n      <td>-0.077572</td>\n      <td>0.220039</td>\n      <td>-0.039719</td>\n      <td>-0.000423</td>\n      <td>0.002335</td>\n      <td>0.209140</td>\n      <td>-0.206280</td>\n      <td>...</td>\n      <td>-0.047226</td>\n      <td>-0.126785</td>\n      <td>-0.171556</td>\n      <td>-0.281413</td>\n      <td>-0.086366</td>\n      <td>1.000000</td>\n      <td>-0.057212</td>\n      <td>-0.149792</td>\n      <td>-0.013061</td>\n      <td>-0.086893</td>\n    </tr>\n    <tr>\n      <th>collisiontype_Right Turn</th>\n      <td>-0.025194</td>\n      <td>0.025008</td>\n      <td>-0.022214</td>\n      <td>-0.020305</td>\n      <td>0.020448</td>\n      <td>-0.021232</td>\n      <td>-0.020210</td>\n      <td>0.002952</td>\n      <td>-0.063094</td>\n      <td>0.064288</td>\n      <td>...</td>\n      <td>-0.012728</td>\n      <td>-0.034169</td>\n      <td>-0.046234</td>\n      <td>-0.075841</td>\n      <td>-0.023276</td>\n      <td>-0.057212</td>\n      <td>1.000000</td>\n      <td>-0.040369</td>\n      <td>-0.019579</td>\n      <td>-0.023251</td>\n    </tr>\n    <tr>\n      <th>collisiontype_Sideswipe</th>\n      <td>-0.116638</td>\n      <td>0.042726</td>\n      <td>-0.059348</td>\n      <td>-0.054613</td>\n      <td>0.076444</td>\n      <td>-0.044433</td>\n      <td>-0.035632</td>\n      <td>0.002806</td>\n      <td>0.087779</td>\n      <td>-0.085962</td>\n      <td>...</td>\n      <td>-0.033323</td>\n      <td>-0.089460</td>\n      <td>-0.121051</td>\n      <td>-0.198567</td>\n      <td>-0.060941</td>\n      <td>-0.149792</td>\n      <td>-0.040369</td>\n      <td>1.000000</td>\n      <td>-0.034795</td>\n      <td>-0.056943</td>\n    </tr>\n    <tr>\n      <th>underinfl_Yes</th>\n      <td>0.044377</td>\n      <td>0.022420</td>\n      <td>0.016592</td>\n      <td>-0.016401</td>\n      <td>0.006609</td>\n      <td>-0.038970</td>\n      <td>-0.008955</td>\n      <td>-0.218037</td>\n      <td>0.041410</td>\n      <td>-0.041827</td>\n      <td>...</td>\n      <td>0.023286</td>\n      <td>-0.033356</td>\n      <td>0.112427</td>\n      <td>0.005568</td>\n      <td>0.015624</td>\n      <td>-0.013061</td>\n      <td>-0.019579</td>\n      <td>-0.034795</td>\n      <td>1.000000</td>\n      <td>0.010153</td>\n    </tr>\n    <tr>\n      <th>hitparkedcar_Y</th>\n      <td>-0.101498</td>\n      <td>-0.052766</td>\n      <td>-0.035264</td>\n      <td>-0.030187</td>\n      <td>0.048845</td>\n      <td>0.059543</td>\n      <td>0.018229</td>\n      <td>0.038753</td>\n      <td>0.129997</td>\n      <td>-0.128877</td>\n      <td>...</td>\n      <td>-0.016894</td>\n      <td>-0.053245</td>\n      <td>-0.066485</td>\n      <td>0.304789</td>\n      <td>-0.036327</td>\n      <td>-0.086893</td>\n      <td>-0.023251</td>\n      <td>-0.056943</td>\n      <td>0.010153</td>\n      <td>1.000000</td>\n    </tr>\n  </tbody>\n</table>\n<p>21 rows \u00d7 21 columns</p>\n</div>",
                        "text/plain": "                          SEVERITYCODE  PERSONCOUNT  PEDCOUNT  PEDCYLCOUNT  \\\nSEVERITYCODE                  1.000000     0.130949  0.246338     0.214218   \nPERSONCOUNT                   0.130949     1.000000 -0.023464    -0.038809   \nPEDCOUNT                      0.246338    -0.023464  1.000000    -0.016920   \nPEDCYLCOUNT                   0.214218    -0.038809 -0.016920     1.000000   \nVEHCOUNT                     -0.054686     0.380523 -0.261285    -0.253773   \nWEATHER                      -0.105236    -0.055734 -0.009703    -0.051237   \nROADCOND                     -0.044988    -0.023762  0.007871    -0.047254   \nLIGHTCOND                    -0.061834    -0.042779 -0.042293     0.009893   \naddrtype_Block               -0.195147    -0.063657 -0.145026    -0.084272   \naddrtype_Intersection         0.199089     0.067153  0.144936     0.085377   \ncollisiontype_Cycles          0.213271    -0.039677 -0.016255     0.987664   \ncollisiontype_Head On         0.029540     0.021879 -0.019212    -0.017080   \ncollisiontype_Left Turn       0.057692     0.053115 -0.049346    -0.044987   \ncollisiontype_Other          -0.033384    -0.175667 -0.064159    -0.062488   \ncollisiontype_Parked Car     -0.305388    -0.110330 -0.110281    -0.102063   \ncollisiontype_Pedestrian      0.245441    -0.037342  0.946507    -0.031111   \ncollisiontype_Rear Ended      0.132313     0.139386 -0.084517    -0.077572   \ncollisiontype_Right Turn     -0.025194     0.025008 -0.022214    -0.020305   \ncollisiontype_Sideswipe      -0.116638     0.042726 -0.059348    -0.054613   \nunderinfl_Yes                 0.044377     0.022420  0.016592    -0.016401   \nhitparkedcar_Y               -0.101498    -0.052766 -0.035264    -0.030187   \n\n                          VEHCOUNT   WEATHER  ROADCOND  LIGHTCOND  \\\nSEVERITYCODE             -0.054686 -0.105236 -0.044988  -0.061834   \nPERSONCOUNT               0.380523 -0.055734 -0.023762  -0.042779   \nPEDCOUNT                 -0.261285 -0.009703  0.007871  -0.042293   \nPEDCYLCOUNT              -0.253773 -0.051237 -0.047254   0.009893   \nVEHCOUNT                  1.000000  0.048249  0.040352   0.003758   \nWEATHER                   0.048249  1.000000  0.752051   0.208585   \nROADCOND                  0.040352  0.752051  1.000000   0.022630   \nLIGHTCOND                 0.003758  0.208585  0.022630   1.000000   \naddrtype_Block            0.076566  0.089902  0.031271   0.054678   \naddrtype_Intersection    -0.073548 -0.091031 -0.031230  -0.054516   \ncollisiontype_Cycles     -0.252753 -0.051310 -0.047248   0.010138   \ncollisiontype_Head On     0.033492  0.003898  0.015629  -0.021904   \ncollisiontype_Left Turn   0.057170 -0.041033 -0.013652  -0.032242   \ncollisiontype_Other      -0.280103 -0.005886  0.029910  -0.119706   \ncollisiontype_Parked Car  0.025913  0.167238  0.031970   0.138715   \ncollisiontype_Pedestrian -0.269287 -0.008035  0.010298  -0.042600   \ncollisiontype_Rear Ended  0.220039 -0.039719 -0.000423   0.002335   \ncollisiontype_Right Turn  0.020448 -0.021232 -0.020210   0.002952   \ncollisiontype_Sideswipe   0.076444 -0.044433 -0.035632   0.002806   \nunderinfl_Yes             0.006609 -0.038970 -0.008955  -0.218037   \nhitparkedcar_Y            0.048845  0.059543  0.018229   0.038753   \n\n                          addrtype_Block  addrtype_Intersection  ...  \\\nSEVERITYCODE                   -0.195147               0.199089  ...   \nPERSONCOUNT                    -0.063657               0.067153  ...   \nPEDCOUNT                       -0.145026               0.144936  ...   \nPEDCYLCOUNT                    -0.084272               0.085377  ...   \nVEHCOUNT                        0.076566              -0.073548  ...   \nWEATHER                         0.089902              -0.091031  ...   \nROADCOND                        0.031271              -0.031230  ...   \nLIGHTCOND                       0.054678              -0.054516  ...   \naddrtype_Block                  1.000000              -0.991394  ...   \naddrtype_Intersection          -0.991394               1.000000  ...   \ncollisiontype_Cycles           -0.084265               0.085357  ...   \ncollisiontype_Head On           0.025621              -0.025392  ...   \ncollisiontype_Left Turn        -0.293826               0.296910  ...   \ncollisiontype_Other             0.131802              -0.138722  ...   \ncollisiontype_Parked Car        0.359542              -0.363621  ...   \ncollisiontype_Pedestrian       -0.150375               0.150109  ...   \ncollisiontype_Rear Ended        0.209140              -0.206280  ...   \ncollisiontype_Right Turn       -0.063094               0.064288  ...   \ncollisiontype_Sideswipe         0.087779              -0.085962  ...   \nunderinfl_Yes                   0.041410              -0.041827  ...   \nhitparkedcar_Y                  0.129997              -0.128877  ...   \n\n                          collisiontype_Head On  collisiontype_Left Turn  \\\nSEVERITYCODE                           0.029540                 0.057692   \nPERSONCOUNT                            0.021879                 0.053115   \nPEDCOUNT                              -0.019212                -0.049346   \nPEDCYLCOUNT                           -0.017080                -0.044987   \nVEHCOUNT                               0.033492                 0.057170   \nWEATHER                                0.003898                -0.041033   \nROADCOND                               0.015629                -0.013652   \nLIGHTCOND                             -0.021904                -0.032242   \naddrtype_Block                         0.025621                -0.293826   \naddrtype_Intersection                 -0.025392                 0.296910   \ncollisiontype_Cycles                  -0.017338                -0.046545   \ncollisiontype_Head On                  1.000000                -0.028205   \ncollisiontype_Left Turn               -0.028205                 1.000000   \ncollisiontype_Other                   -0.038165                -0.102458   \ncollisiontype_Parked Car              -0.062604                -0.168068   \ncollisiontype_Pedestrian              -0.019213                -0.051581   \ncollisiontype_Rear Ended              -0.047226                -0.126785   \ncollisiontype_Right Turn              -0.012728                -0.034169   \ncollisiontype_Sideswipe               -0.033323                -0.089460   \nunderinfl_Yes                          0.023286                -0.033356   \nhitparkedcar_Y                        -0.016894                -0.053245   \n\n                          collisiontype_Other  collisiontype_Parked Car  \\\nSEVERITYCODE                        -0.033384                 -0.305388   \nPERSONCOUNT                         -0.175667                 -0.110330   \nPEDCOUNT                            -0.064159                 -0.110281   \nPEDCYLCOUNT                         -0.062488                 -0.102063   \nVEHCOUNT                            -0.280103                  0.025913   \nWEATHER                             -0.005886                  0.167238   \nROADCOND                             0.029910                  0.031970   \nLIGHTCOND                           -0.119706                  0.138715   \naddrtype_Block                       0.131802                  0.359542   \naddrtype_Intersection               -0.138722                 -0.363621   \ncollisiontype_Cycles                -0.062982                 -0.103312   \ncollisiontype_Head On               -0.038165                 -0.062604   \ncollisiontype_Left Turn             -0.102458                 -0.168068   \ncollisiontype_Other                  1.000000                 -0.227417   \ncollisiontype_Parked Car            -0.227417                  1.000000   \ncollisiontype_Pedestrian            -0.069795                 -0.114488   \ncollisiontype_Rear Ended            -0.171556                 -0.281413   \ncollisiontype_Right Turn            -0.046234                 -0.075841   \ncollisiontype_Sideswipe             -0.121051                 -0.198567   \nunderinfl_Yes                        0.112427                  0.005568   \nhitparkedcar_Y                      -0.066485                  0.304789   \n\n                          collisiontype_Pedestrian  collisiontype_Rear Ended  \\\nSEVERITYCODE                              0.245441                  0.132313   \nPERSONCOUNT                              -0.037342                  0.139386   \nPEDCOUNT                                  0.946507                 -0.084517   \nPEDCYLCOUNT                              -0.031111                 -0.077572   \nVEHCOUNT                                 -0.269287                  0.220039   \nWEATHER                                  -0.008035                 -0.039719   \nROADCOND                                  0.010298                 -0.000423   \nLIGHTCOND                                -0.042600                  0.002335   \naddrtype_Block                           -0.150375                  0.209140   \naddrtype_Intersection                     0.150109                 -0.206280   \ncollisiontype_Cycles                     -0.031707                 -0.077936   \ncollisiontype_Head On                    -0.019213                 -0.047226   \ncollisiontype_Left Turn                  -0.051581                 -0.126785   \ncollisiontype_Other                      -0.069795                 -0.171556   \ncollisiontype_Parked Car                 -0.114488                 -0.281413   \ncollisiontype_Pedestrian                  1.000000                 -0.086366   \ncollisiontype_Rear Ended                 -0.086366                  1.000000   \ncollisiontype_Right Turn                 -0.023276                 -0.057212   \ncollisiontype_Sideswipe                  -0.060941                 -0.149792   \nunderinfl_Yes                             0.015624                 -0.013061   \nhitparkedcar_Y                           -0.036327                 -0.086893   \n\n                          collisiontype_Right Turn  collisiontype_Sideswipe  \\\nSEVERITYCODE                             -0.025194                -0.116638   \nPERSONCOUNT                               0.025008                 0.042726   \nPEDCOUNT                                 -0.022214                -0.059348   \nPEDCYLCOUNT                              -0.020305                -0.054613   \nVEHCOUNT                                  0.020448                 0.076444   \nWEATHER                                  -0.021232                -0.044433   \nROADCOND                                 -0.020210                -0.035632   \nLIGHTCOND                                 0.002952                 0.002806   \naddrtype_Block                           -0.063094                 0.087779   \naddrtype_Intersection                     0.064288                -0.085962   \ncollisiontype_Cycles                     -0.021004                -0.054992   \ncollisiontype_Head On                    -0.012728                -0.033323   \ncollisiontype_Left Turn                  -0.034169                -0.089460   \ncollisiontype_Other                      -0.046234                -0.121051   \ncollisiontype_Parked Car                 -0.075841                -0.198567   \ncollisiontype_Pedestrian                 -0.023276                -0.060941   \ncollisiontype_Rear Ended                 -0.057212                -0.149792   \ncollisiontype_Right Turn                  1.000000                -0.040369   \ncollisiontype_Sideswipe                  -0.040369                 1.000000   \nunderinfl_Yes                            -0.019579                -0.034795   \nhitparkedcar_Y                           -0.023251                -0.056943   \n\n                          underinfl_Yes  hitparkedcar_Y  \nSEVERITYCODE                   0.044377       -0.101498  \nPERSONCOUNT                    0.022420       -0.052766  \nPEDCOUNT                       0.016592       -0.035264  \nPEDCYLCOUNT                   -0.016401       -0.030187  \nVEHCOUNT                       0.006609        0.048845  \nWEATHER                       -0.038970        0.059543  \nROADCOND                      -0.008955        0.018229  \nLIGHTCOND                     -0.218037        0.038753  \naddrtype_Block                 0.041410        0.129997  \naddrtype_Intersection         -0.041827       -0.128877  \ncollisiontype_Cycles          -0.016512       -0.030376  \ncollisiontype_Head On          0.023286       -0.016894  \ncollisiontype_Left Turn       -0.033356       -0.053245  \ncollisiontype_Other            0.112427       -0.066485  \ncollisiontype_Parked Car       0.005568        0.304789  \ncollisiontype_Pedestrian       0.015624       -0.036327  \ncollisiontype_Rear Ended      -0.013061       -0.086893  \ncollisiontype_Right Turn      -0.019579       -0.023251  \ncollisiontype_Sideswipe       -0.034795       -0.056943  \nunderinfl_Yes                  1.000000        0.010153  \nhitparkedcar_Y                 0.010153        1.000000  \n\n[21 rows x 21 columns]"
                    },
                    "execution_count": 24,
                    "metadata": {},
                    "output_type": "execute_result"
                }
            ],
            "source": "df_collisions.corr()"
        },
        {
            "cell_type": "code",
            "execution_count": 25,
            "metadata": {},
            "outputs": [],
            "source": "#from sklearn.neighbors import KNeighborsClassifier\n#from sklearn.model_selection import train_test_split\n#from sklearn.linear_model import LogisticRegression\n#from sklearn.preprocessing import normalize"
        },
        {
            "cell_type": "code",
            "execution_count": 26,
            "metadata": {},
            "outputs": [],
            "source": "# Dataset is imbalanced, so lets grab samples and balance that using undersampling technique\n#df_collisions.SEVERITYCODE.value_counts()\n\n#df_shuffled = df_collisions.sample(frac=1)\n\n#df_severitycode_2 = df_shuffled.loc[df_shuffled['SEVERITYCODE'] == 2]\n#df_severitycode_1 = df_shuffled.loc[df_shuffled['SEVERITYCODE'] == 1].sample(n=58188)\n\n#df_collisions = pd.concat([df_severitycode_1, df_severitycode_2])\n#df_collisions.SEVERITYCODE.value_counts()"
        },
        {
            "cell_type": "code",
            "execution_count": 27,
            "metadata": {},
            "outputs": [],
            "source": "#X = df_collisions.drop('SEVERITYCODE', axis=1)\n\n#X = normalize(X)\n\n#y = df_collisions[['SEVERITYCODE']]\n\n#x_train, x_test, y_train, y_test = train_test_split(X, y, train_size=0.7)"
        },
        {
            "cell_type": "markdown",
            "metadata": {},
            "source": "### Modeling"
        },
        {
            "cell_type": "code",
            "execution_count": 28,
            "metadata": {
                "tags": []
            },
            "outputs": [],
            "source": "# Logistic regression\n#lr_model = LogisticRegression()\n#lr_model.fit(x_train, y_train)"
        },
        {
            "cell_type": "code",
            "execution_count": 29,
            "metadata": {},
            "outputs": [],
            "source": "# Knearest-neighbors (KNN)\n#scores = np.zeros(21)\n#for k in range(1, 21):\n#    knn_model = KNeighborsClassifier(n_neighbors=k)\n#    knn_model.fit(x_train, y_train)\n#    scores[k-1] = knn_model.score(x_test, y_test)\n#best_knn_score = scores.max()\n#best_k = scores.argmax()+1"
        },
        {
            "cell_type": "markdown",
            "metadata": {},
            "source": "### Evaluation"
        },
        {
            "cell_type": "code",
            "execution_count": null,
            "metadata": {},
            "outputs": [],
            "source": ""
        },
        {
            "cell_type": "code",
            "execution_count": 30,
            "metadata": {
                "tags": []
            },
            "outputs": [],
            "source": "#print(\"Logistic regression score: \" + str(lr_model.score(x_test, y_test)))\n#print(\"KNN score: \" + str(best_knn_score) + \" with K=\" + str(best_k)) "
        }
    ],
    "metadata": {
        "kernelspec": {
            "display_name": "Python 3.6",
            "language": "python",
            "name": "python3"
        },
        "language_info": {
            "codemirror_mode": {
                "name": "ipython",
                "version": 3
            },
            "file_extension": ".py",
            "mimetype": "text/x-python",
            "name": "python",
            "nbconvert_exporter": "python",
            "pygments_lexer": "ipython3",
            "version": "3.6.9"
        }
    },
    "nbformat": 4,
    "nbformat_minor": 4
}